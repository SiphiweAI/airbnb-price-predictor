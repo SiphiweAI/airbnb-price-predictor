{
 "cells": [
  {
   "cell_type": "code",
   "execution_count": null,
   "id": "ea0a7ee9-5dba-47b5-a3cc-22f4f55b0cd3",
   "metadata": {},
   "outputs": [],
   "source": [
    "import streamlit as st\n",
    "import joblib\n",
    "import pandas as pd\n",
    "import numpy as np"
   ]
  },
  {
   "cell_type": "code",
   "execution_count": null,
   "id": "9d509d9e-a7e0-41e1-88f3-8e69a3e4f8f6",
   "metadata": {},
   "outputs": [],
   "source": [
    "st.markdown(\"\"\"\n",
    "### *Welcome to the Airbnb Property Price Predictor App*\n",
    "\n",
    "This app helps you **predict the price of a property in Cape Town** based on several input features.\n",
    "\"\"\")"
   ]
  },
  {
   "cell_type": "code",
   "execution_count": null,
   "id": "9ec2206f-8d31-4330-b989-5e89a9dbd1b7",
   "metadata": {},
   "outputs": [],
   "source": [
    "model = joblib.load(r\"C:\\Users\\Lenovo\\Desktop\\Projects\\Datasets\\gbr_model.pkl\")\n",
    "feature_means = joblib.load(r\"C:\\Users\\Lenovo\\Desktop\\Projects\\Datasets\\feature_means.pkl\")\n",
    "feature_names = list(feature_means.keys())"
   ]
  },
  {
   "cell_type": "code",
   "execution_count": null,
   "id": "319a70e6-9574-4236-bb01-2ed0045d2cff",
   "metadata": {},
   "outputs": [],
   "source": [
    "st.markdown(\"\"\"\n",
    "**The features required for this model to make a prediction are:**\n",
    "\n",
    "- `neighbourhood`, `latitude`, `longitude`\n",
    "- `minimum_nights`, `number_of_reviews`, `reviews_per_month`\n",
    "- `calculated_host_listings_count`, `availability_365`\n",
    "- `number_of_reviews_ltm`, `last_review_missing`\n",
    "- `room_type_Entire home/apt`, `room_type_Hotel room`\n",
    "- `room_type_Private room`, `room_type_Shared room`\n",
    "\n",
    "*Please enter numeric values for each.*\n",
    "\"\"\")"
   ]
  },
  {
   "cell_type": "code",
   "execution_count": null,
   "id": "9305c4aa-905e-4af5-90fe-f40538548c9e",
   "metadata": {},
   "outputs": [],
   "source": [
    "user_input = {}\n",
    "for feat in feature_names:\n",
    "    val = st.text_input(f\"{feat} (leave blank to use default: {round(feature_means[feat], 2)})\")\n",
    "    if val.strip() == \"\":\n",
    "        user_input[feat] = feature_means[feat]\n",
    "    else:\n",
    "        try:\n",
    "            user_input[feat] = float(val)\n",
    "        except ValueError:\n",
    "            st.error(f\"Invalid input for {feat}. Must be numeric.\")\n",
    "            st.stop()\n",
    "\n",
    "if st.button(\"Predict\"):\n",
    "    input_array = pd.DataFrame([user_input])[feature_names]\n",
    "    prediction = model.predict(input_array)[0]\n",
    "    st.success(f\"The predicted price is: R{round(prediction, 2)}\")"
   ]
  },
  {
   "cell_type": "code",
   "execution_count": null,
   "id": "08f0e49c-d3d3-4a70-8b1f-29746c45880f",
   "metadata": {},
   "outputs": [],
   "source": [
    "# st.title(\"GBR Predictor\")\n",
    "\n",
    "# f1 = st.number_input(\"Feature 1\")\n",
    "# f2 = st.number_input(\"Feature 2\")\n",
    "# f3 = st.number_input(\"Feature 3\")\n",
    "\n",
    "# if st.button(\"Predict\"):\n",
    "#     X = np.array([[f1, f2, f3]])\n",
    "#     y_pred = model.predict(X)\n",
    "#     st.write(f\"Prediction: {y_pred[0]}\")"
   ]
  },
  {
   "cell_type": "code",
   "execution_count": null,
   "id": "b9a1cba4-585d-4cc6-904c-add4d6e8eba3",
   "metadata": {},
   "outputs": [],
   "source": [
    "# !streamlit run C:\\Users\\Lenovo\\Desktop\\Projects\\Datasets\\venv\\Lib\\site-packages\\ipykernel_launcher.py [ARGUMENTS]"
   ]
  },
  {
   "cell_type": "code",
   "execution_count": null,
   "id": "5151bbae-291d-4e4e-b080-ceee6c4b9562",
   "metadata": {},
   "outputs": [],
   "source": []
  }
 ],
 "metadata": {
  "kernelspec": {
   "display_name": "Python 3 (ipykernel)",
   "language": "python",
   "name": "python3"
  },
  "language_info": {
   "codemirror_mode": {
    "name": "ipython",
    "version": 3
   },
   "file_extension": ".py",
   "mimetype": "text/x-python",
   "name": "python",
   "nbconvert_exporter": "python",
   "pygments_lexer": "ipython3",
   "version": "3.13.5"
  }
 },
 "nbformat": 4,
 "nbformat_minor": 5
}
